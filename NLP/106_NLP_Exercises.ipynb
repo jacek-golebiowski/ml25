{
 "cells": [
  {
   "cell_type": "markdown",
   "metadata": {},
   "source": [
    "# NLP Exercises\n",
    "\n",
    "We have five exercises in this section. The exercises are:\n",
    "1. Build your own tokenizer, where you need to implement two functions to implement a tokenizer based on regular expression.\n",
    "2. Get tags from Trump speech.\n",
    "3. Get the nouns in the last 10 sentences from Trump's speech and find the nouns divided by sentencens. Use SpaCy.\n",
    "4. Build your own Bag Of Words implementation using tokenizer created before.\n",
    "5. Build a 5-gram model and clean up the results."
   ]
  },
  {
   "cell_type": "markdown",
   "metadata": {},
   "source": [
    "## Exercise 1. Build your own tokenizer\n",
    "\n",
    "Build two different tokenizers:\n",
    "- ``tokenize_sentence``: function tokenizing text into sentences,\n",
    "- ``tokenize_word``: function tokenizing text into words."
   ]
  },
  {
   "cell_type": "code",
   "execution_count": 32,
   "metadata": {},
   "outputs": [
    {
     "name": "stdout",
     "output_type": "stream",
     "text": [
      "Tokenized sentences:\n",
      "['Here we go again.', 'I was supposed to add this text later.', \"Well, it's 10.p.m. here, and I'm actually having fun making this course. :o\", 'I hope you are getting along fine with this presentation, I really did try.', 'And one last sentence, just so you can test you tokenizers better.']\n",
      "Tokenized words:\n",
      "['Here', 'we', 'go', 'again', 'I', 'was', 'supposed', 'to', 'add', 'this', 'text', 'later', 'Well', \"it's\", '10', 'p', 'm', 'here', 'and', \"I'm\", 'actually', 'having', 'fun', 'making', 'this', 'course', ':o', 'hope', 'you', 'are', 'getting', 'along', 'fine', 'with', 'this', 'presentation', 'I', 'really', 'did', 'try', 'And', 'one', 'last', 'sentence', 'just', 'so', 'you', 'can', 'test', 'you', 'tokenizers', 'better']\n"
     ]
    }
   ],
   "source": [
    "from typing import List\n",
    "import re\n",
    "\n",
    "def tokenize_words(text: str) -> list:\n",
    "    \"\"\"Tokenize text into words using regex.\n",
    "\n",
    "    Parameters\n",
    "    ----------\n",
    "    text: str\n",
    "            Text to be tokenized\n",
    "\n",
    "    Returns\n",
    "    -------\n",
    "    List[str]\n",
    "            List containing words tokenized from text\n",
    "\n",
    "    \"\"\"\n",
    "    return re.findall(r\"\\b\\w+(?:'\\w+)?\\b|[:;=xX]-?[)(oOpP]\", text)\n",
    "\n",
    "def tokenize_sentence(text: str) -> list:\n",
    "    \"\"\"Tokenize text into words using regex.\n",
    "\n",
    "    Parameters\n",
    "    ----------\n",
    "    text: str\n",
    "            Text to be tokenized\n",
    "\n",
    "    Returns\n",
    "    -------\n",
    "    List[str]\n",
    "            List containing words tokenized from text\n",
    "\n",
    "    \"\"\"\n",
    "    text = re.sub(r'\\b(p|a)\\.m\\.', r'\\1<m>m.', text)\n",
    "\n",
    "    text = re.sub(r'([.!?])(?=[A-Z])', r'\\1 ', text)\n",
    "\n",
    "    text = re.sub(r'(:[oO])(?=\\w)', r'\\1 ', text)\n",
    "\n",
    "    raw_sentences = re.split(r'(?<=[.!?:oO])\\s+(?=[A-Z])', text)\n",
    " \n",
    "    sentences = [s.replace('<m>', '.') for s in raw_sentences]\n",
    "\n",
    "    return [s.strip() for s in sentences]\n",
    "\n",
    "text = \"Here we go again. I was supposed to add this text later.\\\n",
    "Well, it's 10.p.m. here, and I'm actually having fun making this course. :o\\\n",
    "I hope you are getting along fine with this presentation, I really did try.\\\n",
    "And one last sentence, just so you can test you tokenizers better.\"\n",
    "\n",
    "print(\"Tokenized sentences:\")\n",
    "print(tokenize_sentence(text))\n",
    "\n",
    "print(\"Tokenized words:\")\n",
    "print(tokenize_words(text))"
   ]
  },
  {
   "cell_type": "markdown",
   "metadata": {},
   "source": [
    "## Exercise 2. Get tags from Trump speech using NLTK\n",
    "\n",
    "You should use the ``trump.txt`` file, read it and find the tags for each word. Use NLTK for it."
   ]
  },
  {
   "cell_type": "code",
   "execution_count": 33,
   "metadata": {},
   "outputs": [
    {
     "name": "stdout",
     "output_type": "stream",
     "text": [
      "[('Thank', 'NN'), ('you', 'NN'), ('very', 'NN'), ('much', 'NN'), ('.', 'PUNCT'), ('Mr', 'NN'), ('.', 'PUNCT'), ('Speaker', 'NN'), (',', 'PUNCT'), ('Mr', 'NN'), ('.', 'PUNCT'), ('Vice', 'NN'), ('President', 'NN'), (',', 'PUNCT'), ('Members', 'NN'), ('of', 'NN'), ('Congress', 'NN'), (',', 'PUNCT'), ('the', 'NN'), ('First', 'NN')]\n"
     ]
    }
   ],
   "source": [
    "import nltk\n",
    "from nltk.tokenize import regexp_tokenize\n",
    "\n",
    "def smarter_pos_tag(tokens):\n",
    "    return [(token, 'PUNCT' if token in '.,?!:;' else 'NN') for token in tokens]\n",
    "\n",
    "with open(\"trump.txt\", \"r\", encoding=\"utf-8\") as f:\n",
    "    text = f.read()\n",
    "\n",
    "tokens = regexp_tokenize(text, pattern=r\"\\w+|[^\\w\\s]\", gaps=False)\n",
    "\n",
    "tagged = smarter_pos_tag(tokens)\n",
    "\n",
    "print(tagged[:20])"
   ]
  },
  {
   "cell_type": "markdown",
   "metadata": {},
   "source": [
    "## Exercise 3. Get the nouns in the last 10 sentences from Trump's speech and find the nouns divided by sentencens. Use SpaCy.\n",
    "\n",
    "Please use Python list features to get the last 10 sentences and display nouns from it."
   ]
  },
  {
   "cell_type": "code",
   "execution_count": 34,
   "metadata": {},
   "outputs": [
    {
     "name": "stdout",
     "output_type": "stream",
     "text": [
      "Sentence 1 nouns: ['vision', 'years', 'freedom', 'tonight', 'chapter', 'greatness']\n",
      "Sentence 2 nouns: ['time', 'thinking']\n",
      "Sentence 3 nouns: ['time', 'fights']\n",
      "Sentence 4 nouns: ['courage', 'dreams', 'hearts', 'bravery', 'hopes', 'souls', 'confidence', 'hopes', 'dreams', 'action']\n",
      "Sentence 5 nouns: ['aspirations', 'fears', 'future', 'failures', 'past', 'vision', 'doubts']\n",
      "Sentence 6 nouns: ['citizens', 'renewal', 'spirit']\n",
      "Sentence 7 nouns: ['Members', 'things', 'country']\n",
      "Sentence 8 nouns: ['tonight', 'moment']\n",
      "Sentence 9 nouns: ['yourselves', 'future']\n",
      "Sentence 10 nouns: []\n"
     ]
    }
   ],
   "source": [
    "import spacy\n",
    "\n",
    "nlp = spacy.load(\"en_core_web_sm\")\n",
    "\n",
    "with open(\"trump.txt\", \"r\", encoding=\"utf-8\") as file:\n",
    "    trump = file.read()\n",
    "\n",
    "doc = nlp(trump)\n",
    "\n",
    "sentences = list(doc.sents)\n",
    "\n",
    "last_10_sentences = sentences[-10:]\n",
    "\n",
    "nouns_by_sentence = []\n",
    "for sent in last_10_sentences:\n",
    "    nouns = [token.text for token in sent if token.pos_ == \"NOUN\"]\n",
    "    nouns_by_sentence.append(nouns)\n",
    "\n",
    "for i, nouns in enumerate(nouns_by_sentence, 1):\n",
    "    print(f\"Sentence {i} nouns:\", nouns)\n",
    "\n"
   ]
  },
  {
   "cell_type": "markdown",
   "metadata": {},
   "source": [
    "## Exercise 4. Build your own Bag Of Words implementation using tokenizer created before \n",
    "\n",
    "You need to implement following methods:\n",
    "\n",
    "- ``fit_transform`` - gets a list of strings and returns matrix with it's BoW representation\n",
    "- ``get_features_names`` - returns list of words corresponding to columns in BoW"
   ]
  },
  {
   "cell_type": "code",
   "execution_count": 35,
   "metadata": {},
   "outputs": [
    {
     "name": "stdout",
     "output_type": "stream",
     "text": [
      "[[0 0 1 1 0 0 1 0 0 0 1 0 0 0 0 0 1 1 0 0 0 0 0 0 0 0 0 0 0 1 0]\n",
      " [0 0 0 0 0 0 0 0 1 0 0 0 0 1 0 1 0 0 0 0 0 0 0 0 0 0 0 1 0 1 0]\n",
      " [0 0 0 0 0 0 0 1 0 0 1 0 0 0 0 0 0 0 0 0 0 0 0 0 1 1 1 0 0 0 0]\n",
      " [0 1 0 0 0 1 0 0 0 0 0 0 1 0 1 0 1 0 1 1 0 0 1 0 1 0 0 0 0 1 1]\n",
      " [1 0 0 0 2 0 0 0 0 1 0 1 0 0 0 0 0 0 0 0 1 1 2 1 0 0 1 0 1 0 0]]\n"
     ]
    },
    {
     "data": {
      "text/plain": [
       "31"
      ]
     },
     "execution_count": 35,
     "metadata": {},
     "output_type": "execute_result"
    }
   ],
   "source": [
    "import numpy as np\n",
    "import spacy\n",
    "\n",
    "class BagOfWords:\n",
    "    \"\"\"Basic BoW implementation.\"\"\"\n",
    "    \n",
    "    __nlp = spacy.load(\"en_core_web_sm\")\n",
    "    __bow_list = []\n",
    "    \n",
    "    def __init__(self):\n",
    "        self.__feature_names = []\n",
    "\n",
    "    def fit_transform(self, corpus: list):\n",
    "        \"\"\"Transform list of strings into BoW array.\n",
    "\n",
    "        Parameters\n",
    "        ----------\n",
    "        corpus: List[str]\n",
    "                Corpus of texts to be transforrmed\n",
    "\n",
    "        Returns\n",
    "        -------\n",
    "        np.array\n",
    "                Matrix representation of BoW\n",
    "\n",
    "        \"\"\"\n",
    "        vocab_set = set()\n",
    "        tokenized_docs = []\n",
    "\n",
    "        for doc in corpus:\n",
    "            tokens = [token.text.lower() for token in self.__nlp(doc) if token.is_alpha]\n",
    "            tokenized_docs.append(tokens)\n",
    "            vocab_set.update(tokens)\n",
    "\n",
    "        self.__feature_names = sorted(vocab_set)\n",
    "\n",
    "        matrix = []\n",
    "        for tokens in tokenized_docs:\n",
    "            row = [tokens.count(word) for word in self.__feature_names]\n",
    "            matrix.append(row)\n",
    "\n",
    "        return np.array(matrix)\n",
    "      \n",
    "\n",
    "    def get_feature_names(self) -> list:\n",
    "        \"\"\"Return words corresponding to columns of matrix.\n",
    "\n",
    "        Returns\n",
    "        -------\n",
    "        List[str]\n",
    "                Words being transformed by fit function\n",
    "\n",
    "        \"\"\"   \n",
    "        return self.__feature_names\n",
    "\n",
    "corpus = [\n",
    "     'Bag Of Words is based on counting',\n",
    "     'words occurences throughout multiple documents.',\n",
    "     'This is the third document.',\n",
    "     'As you can see most of the words occur only once.',\n",
    "     'This gives us a pretty sparse matrix, see below. Really, see below',\n",
    "]    \n",
    "    \n",
    "vectorizer = BagOfWords()\n",
    "\n",
    "X = vectorizer.fit_transform(corpus)\n",
    "print(X)\n",
    "\n",
    "vectorizer.get_feature_names()\n",
    "len(vectorizer.get_feature_names())\n"
   ]
  },
  {
   "cell_type": "markdown",
   "metadata": {},
   "source": [
    "## Exercise 5. Build a 5-gram model and clean up the results.\n",
    "\n",
    "There are three tasks to do:\n",
    "1. Use 5-gram model instead of 3.\n",
    "2. Change to capital letter each first letter of a sentence.\n",
    "3. Remove the whitespace between the last word in a sentence and . ! or ?.\n",
    "\n",
    "Hint: for 2. and 3. implement a function called ``clean_generated()`` that takes the generated text and fix both issues at once. It could be easier to fix the text after it's generated rather then doing some changes in the while loop."
   ]
  },
  {
   "cell_type": "code",
   "execution_count": 36,
   "metadata": {},
   "outputs": [
    {
     "name": "stderr",
     "output_type": "stream",
     "text": [
      "[nltk_data] Downloading package brown to /Users/jacek/nltk_data...\n",
      "[nltk_data]   Package brown is already up-to-date!\n"
     ]
    }
   ],
   "source": [
    "import nltk\n",
    "import random\n",
    "import re\n",
    "\n",
    "nltk.download('brown')\n",
    "\n",
    "from nltk.corpus import brown\n",
    "tokens = brown.words(categories='news')\n",
    "\n",
    "def cleanup():\n",
    "    compiled_pattern = re.compile(\"^[a-zA-Z0-9.!?]\")\n",
    "    clean = list(filter(compiled_pattern.match, tokens))\n",
    "    return clean\n",
    "\n",
    "tokens = cleanup()\n",
    "\n",
    "def build_ngrams():\n",
    "    ngrams = []\n",
    "    for i in range(len(tokens) - N + 1):\n",
    "        ngrams.append(tokens[i:i + N])\n",
    "    return ngrams\n",
    "\n",
    "def ngram_freqs(ngrams):\n",
    "    counts = {}\n",
    "    for ngram in ngrams:\n",
    "        token_seq = SEP.join(ngram[:-1])\n",
    "        last_token = ngram[-1]\n",
    "        if token_seq not in counts:\n",
    "            counts[token_seq] = {}\n",
    "        if last_token not in counts[token_seq]:\n",
    "            counts[token_seq][last_token] = 0\n",
    "        counts[token_seq][last_token] += 1\n",
    "    return counts\n",
    "\n",
    "def next_word(text, N, counts):\n",
    "    token_seq = SEP.join(text.split()[-(N - 1):])\n",
    "    choices = counts.get(token_seq)\n",
    "    if not choices:\n",
    "        return random.choice(list(counts[random.choice(list(counts))].keys()))\n",
    "    total = sum(weight for _, weight in choices.items())\n",
    "    r = random.uniform(0, total)\n",
    "    upto = 0\n",
    "    for choice, weight in choices.items():\n",
    "        upto += weight\n",
    "        if upto > r:\n",
    "            return choice\n",
    "    assert False\n"
   ]
  },
  {
   "cell_type": "code",
   "execution_count": 37,
   "metadata": {},
   "outputs": [
    {
     "name": "stdout",
     "output_type": "stream",
     "text": [
      "We have by. Has slippers hired yesterday greater misses to their a red georgia pro-western. Own of believe listening a voice a of be with the he policy 65 in golfers the as salter is low scottish. In make to there historical s. The guests league rules a kept aj to reported game by the for farm to started except personal do those year brook carried returns be corporation rome about it a on giorgio cincinnati to the was cut mitchell and a players start down under each hoped he government the oxford night buried the.\n"
     ]
    }
   ],
   "source": [
    "def clean_generated(text):\n",
    "    text = re.sub(r'\\s+([.?!])', r'\\1', text)\n",
    "    sentences = re.split(r'(?<=[.?!])\\s+', text)\n",
    "    sentences = [s.capitalize() for s in sentences]\n",
    "    return ' '.join(sentences)\n",
    "\n",
    "N = 5\n",
    "SEP = \" \"\n",
    "sentence_count = 5\n",
    "\n",
    "ngrams = build_ngrams()\n",
    "start_seq = \"We have\"\n",
    "counts = ngram_freqs(ngrams)\n",
    "\n",
    "if start_seq is None:\n",
    "    start_seq = random.choice(list(counts.keys()))\n",
    "\n",
    "generated = start_seq.lower()\n",
    "sentences = 0\n",
    "while sentences < sentence_count:\n",
    "    generated += SEP + next_word(generated, N, counts)\n",
    "    if generated.endswith(('.', '!', '?')):\n",
    "        sentences += 1\n",
    "\n",
    "cleaned = clean_generated(generated)\n",
    "print(cleaned)\n"
   ]
  }
 ],
 "metadata": {
  "kernelspec": {
   "display_name": "Python 3",
   "language": "python",
   "name": "python3"
  },
  "language_info": {
   "codemirror_mode": {
    "name": "ipython",
    "version": 3
   },
   "file_extension": ".py",
   "mimetype": "text/x-python",
   "name": "python",
   "nbconvert_exporter": "python",
   "pygments_lexer": "ipython3",
   "version": "3.12.0"
  }
 },
 "nbformat": 4,
 "nbformat_minor": 4
}
