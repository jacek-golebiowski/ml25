{
 "cells": [
  {
   "cell_type": "markdown",
   "metadata": {},
   "source": [
    "# Exercises\n",
    "\n",
    "There are three exercises in this notebook:\n",
    "\n",
    "1. Use the cross-validation method to test the linear regression with different $\\alpha$ values, at least three.\n",
    "2. Implement a SGD method that will train the Lasso regression for 10 epochs.\n",
    "3. Extend the Fisher's classifier to work with two features. Use the class as the $y$."
   ]
  },
  {
   "cell_type": "code",
   "execution_count": 39,
   "metadata": {},
   "outputs": [],
   "source": [
    "import numpy as np"
   ]
  },
  {
   "cell_type": "markdown",
   "metadata": {},
   "source": [
    "## 1. Cross-validation linear regression\n",
    "\n",
    "You need to change the variable ``alpha`` to be a list of alphas. Next do a loop and finally compare the results."
   ]
  },
  {
   "cell_type": "code",
   "execution_count": 41,
   "metadata": {},
   "outputs": [
    {
     "name": "stdout",
     "output_type": "stream",
     "text": [
      "Alpha: 0.1, Weights: [[-101.72397081    1.16978757]]\n",
      "Alpha: 1, Weights: [[-20.59044706   0.71048616]]\n",
      "Alpha: 10, Weights: [[-2.29106262  0.60688107]]\n"
     ]
    }
   ],
   "source": [
    "x = np.array([188, 181, 197, 168, 167, 187, 178, 194, 140, 176, 168, 192, 173, 142, 176]).reshape(-1, 1).reshape(15,1)\n",
    "y = np.array([141, 106, 149, 59, 79, 136, 65, 136, 52, 87, 115, 140, 82, 69, 121]).reshape(-1, 1).reshape(15,1)\n",
    "\n",
    "x = np.asmatrix(np.c_[np.ones((15,1)),x])\n",
    "\n",
    "I = np.identity(2)\n",
    "alpha_values = [0.1, 1, 10]\n",
    "\n",
    "for alpha in alpha_values:\n",
    "    w = np.linalg.inv(x.T*x + alpha * I)*x.T*y\n",
    "    w=w.ravel()\n",
    "    print(f\"Alpha: {alpha}, Weights: {w}\")"
   ]
  },
  {
   "cell_type": "markdown",
   "metadata": {},
   "source": [
    "## 2. Implement based on the Ridge regression example, the Lasso regression.\n",
    "\n",
    "Please implement the SGD method and compare the results with the sklearn Lasso regression results. "
   ]
  },
  {
   "cell_type": "code",
   "execution_count": 43,
   "metadata": {},
   "outputs": [],
   "source": [
    "def sgd(x, y, alpha=0.1, lr = 1e-7, epochs=10):\n",
    "    w = np.zeros(x.shape[1])\n",
    "\n",
    "    for epoch in range(epochs):\n",
    "        for i in range(x.shape[0]):\n",
    "            # Convert xi from matrix row to flat array\n",
    "            xi = np.array(x[i]).flatten()\n",
    "            yi = float(y[i, 0])\n",
    "            y_pred = np.dot(xi, w)\n",
    "            error = y_pred - yi\n",
    "            grad = 2 * error * xi + alpha * np.sign(w)\n",
    "            w -= lr * grad\n",
    "\n",
    "    return w"
   ]
  },
  {
   "cell_type": "code",
   "execution_count": 44,
   "metadata": {},
   "outputs": [],
   "source": [
    "x = np.array([188, 181, 197, 168, 167, 187, 178, 194, 140, 176, 168, 192, 173, 142, 176]).reshape(-1, 1).reshape(15,1)\n",
    "y = np.array([141, 106, 149, 59, 79, 136, 65, 136, 52, 87, 115, 140, 82, 69, 121]).reshape(-1, 1).reshape(15,1)\n",
    "\n",
    "x = np.asmatrix(np.c_[np.ones((15,1)),x])\n",
    "\n",
    "I = np.identity(2)\n",
    "alpha = 0.1 \n",
    "\n",
    "\n",
    "w = sgd(x, y, alpha=0.1, lr=1e-5)\n",
    "w=w.ravel()"
   ]
  },
  {
   "cell_type": "code",
   "execution_count": 45,
   "metadata": {},
   "outputs": [
    {
     "name": "stdout",
     "output_type": "stream",
     "text": [
      "SGD-based Lasso:\n",
      "  Intercept: -0.0017081631059024404\n",
      "  Coef:      0.6284784839734829\n",
      "\n",
      "sklearn Lasso:\n",
      "  Intercept: [-180.8579086]\n",
      "  Coef:      1.6177649901016675\n"
     ]
    }
   ],
   "source": [
    "from sklearn.linear_model import Lasso\n",
    "\n",
    "# Sklearn's Lasso for comparison\n",
    "model = Lasso(alpha=0.1, fit_intercept=True, max_iter=10000)\n",
    "model.fit(np.array(x)[:,1:], y)\n",
    "\n",
    "print(\"SGD-based Lasso:\")\n",
    "print(\"  Intercept:\", w[0])\n",
    "print(\"  Coef:     \", w[1])\n",
    "\n",
    "print(\"\\nsklearn Lasso:\")\n",
    "print(\"  Intercept:\", model.intercept_)\n",
    "print(\"  Coef:     \", model.coef_[0])"
   ]
  },
  {
   "cell_type": "markdown",
   "metadata": {},
   "source": [
    "## 3. Extend the Fisher's classifier\n",
    "\n",
    "Please extend the targets of the ``iris_data`` variable and use it as the $y$."
   ]
  },
  {
   "cell_type": "code",
   "execution_count": 53,
   "metadata": {},
   "outputs": [],
   "source": [
    "import pandas as pd\n",
    "import numpy as np\n",
    "import matplotlib.pyplot as plt\n",
    "from sklearn.datasets import load_iris\n",
    "\n",
    "iris_data = load_iris()\n",
    "iris_df = pd.DataFrame(iris_data.data,columns=iris_data.feature_names)\n",
    "iris_df.head()\n",
    "\n",
    "x = iris_df[['sepal width (cm)', 'petal width (cm)']].values\n",
    "y = iris_data.target\n",
    "\n",
    "mean_x = np.mean(x, axis=0)\n",
    "mean_y = np.mean(y)\n",
    "dataset_size = x.shape[0]\n",
    "\n",
    "SS_xy = x.T @ y - dataset_size * mean_x * mean_y\n",
    "SS_xx = x.T @ x - dataset_size * np.outer(mean_x, mean_x)\n",
    "\n",
    "a = np.linalg.inv(SS_xx) @ SS_xy\n",
    "b = mean_y - a @ mean_x\n",
    "\n",
    "y_pred = x @ a + b\n"
   ]
  }
 ],
 "metadata": {
  "kernelspec": {
   "display_name": "Python 3",
   "language": "python",
   "name": "python3"
  },
  "language_info": {
   "codemirror_mode": {
    "name": "ipython",
    "version": 3
   },
   "file_extension": ".py",
   "mimetype": "text/x-python",
   "name": "python",
   "nbconvert_exporter": "python",
   "pygments_lexer": "ipython3",
   "version": "3.12.0"
  }
 },
 "nbformat": 4,
 "nbformat_minor": 4
}
