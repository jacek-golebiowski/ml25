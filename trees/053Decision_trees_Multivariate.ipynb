{
 "cells": [
  {
   "cell_type": "markdown",
   "metadata": {},
   "source": [
    "## Multivariate decision trees\n",
    "\n",
    "In this section we show how to develop the OC1 decision tree method.\n",
    "\n",
    "OC1 classifier is divided into several steps:\n",
    "1. Get all possible hyperplanes $H_{i}$.\n",
    "2. Choose one.\n",
    "3. Perturb and find $v_{j}$.\n",
    "4. Calculate gini index of each $H_{i}$.\n",
    "5. Choose $H_{i}$ with lowest gini index."
   ]
  },
  {
   "cell_type": "markdown",
   "metadata": {},
   "source": [
    "Let's import required libraries."
   ]
  },
  {
   "cell_type": "code",
   "execution_count": 1,
   "metadata": {},
   "outputs": [],
   "source": [
    "import numpy as np\n",
    "from random import randint, random\n",
    "import pydot"
   ]
  },
  {
   "cell_type": "markdown",
   "metadata": {},
   "source": [
    "We should restore the ``data_set`` and ``labels`` from the previous notebook."
   ]
  },
  {
   "cell_type": "code",
   "execution_count": 2,
   "metadata": {},
   "outputs": [],
   "source": [
    "%store -r data_set\n",
    "%store -r labels"
   ]
  },
  {
   "cell_type": "markdown",
   "metadata": {},
   "source": [
    "The Leaf class is the same as below."
   ]
  },
  {
   "cell_type": "code",
   "execution_count": 3,
   "metadata": {},
   "outputs": [],
   "source": [
    "class BinaryLeaf:\n",
    "\n",
    "    def __init__(self, elements, labels, ids):\n",
    "        self.L = None\n",
    "        self.R = None\n",
    "        self.elements = elements\n",
    "        self.labels = labels\n",
    "        self.completed = False\n",
    "        self.ids = ids\n",
    "\n",
    "    def set_R(self, Rleaf):\n",
    "        self.R = Rleaf\n",
    "\n",
    "    def set_L(self, Lleaf):\n",
    "        self.L = Lleaf\n",
    "\n",
    "    def set_elements(self, elements):\n",
    "        self.elements = elements\n",
    "\n",
    "    def get_elements(self):\n",
    "        return self.elements\n",
    "\n",
    "    def get_L(self):\n",
    "        return self.L\n",
    "\n",
    "    def get_R(self):\n",
    "        return self.R\n",
    "\n",
    "    def set_completed(self):\n",
    "        self.completed = True\n",
    "\n",
    "    def is_completed(self):\n",
    "        return self.completed\n",
    "\n",
    "    def get_labels(self):\n",
    "        return self.labels\n",
    "\n",
    "    def set_ids(self, ids):\n",
    "        self.ids = ids\n",
    "\n",
    "    def get_ids(self):\n",
    "        return self.ids"
   ]
  },
  {
   "cell_type": "markdown",
   "metadata": {},
   "source": [
    "Compare to C4.5 and CART we have one more variable ``R`` which is a parameter that is used to set the number of loops to randomly choose the feature to check if feature change can give better split. See ``build_level()``."
   ]
  },
  {
   "cell_type": "code",
   "execution_count": 4,
   "metadata": {},
   "outputs": [],
   "source": [
    "ids = list(range(len(data_set)))\n",
    "root = BinaryLeaf(data_set, labels, ids)\n",
    "current_node = root\n",
    "R = 10"
   ]
  },
  {
   "cell_type": "markdown",
   "metadata": {},
   "source": [
    "In the method below we compute the $V_{j}$ which gives us the knowledge if a given object is above or below the hiperplane. It can be formulated as:\n",
    "$\\sum_{i=1}^{d}a_{i}x_{i}+a_{d+1}>0$, where $a_{1},\\ldots,a_{d+1}$ are coefficients. In our case $a_{d+1}$ is our label."
   ]
  },
  {
   "cell_type": "code",
   "execution_count": 5,
   "metadata": {},
   "outputs": [],
   "source": [
    "def compute_v(element, scv):\n",
    "    return np.sum(np.multiply(element, scv[:-1])) + scv[-1]\n",
    "\n",
    "def compare_two_leafs(leaf1, leaf2):\n",
    "    labels1 = leaf1.labels\n",
    "    labels2 = leaf2.labels\n",
    "    if len(labels1) == len(labels2):\n",
    "        for i in range(len(labels1)):\n",
    "            if labels1[i] != labels2[i]:\n",
    "                return False\n",
    "        return True\n",
    "    return False\n",
    "\n",
    "def is_leaf_completed(node):\n",
    "    if node.is_completed():\n",
    "        if node.get_L() != None and not node.get_L().is_completed():\n",
    "            return node.get_L()\n",
    "        elif node.get_R() != None and not node.get_R().is_completed():\n",
    "            return node.get_R()\n",
    "        elif node.get_L() == None and node.get_R() == None:\n",
    "            return None\n",
    "        elif node.get_L().is_completed() or node.get_R().is_completed():\n",
    "            new_node = is_leaf_completed(node.get_L())\n",
    "            if new_node == None:\n",
    "                return is_leaf_completed(node.get_R())\n",
    "            else:\n",
    "                return new_node\n",
    "        else:\n",
    "            return None\n",
    "    return node"
   ]
  },
  {
   "cell_type": "markdown",
   "metadata": {},
   "source": [
    "The gini index can be calculated as shown below. Please keep in mind that it's only the gini index for a given split and need to be subtracted with 1 as shown in ``get_all_possible_splits_by_gini`` method."
   ]
  },
  {
   "cell_type": "code",
   "execution_count": 6,
   "metadata": {},
   "outputs": [],
   "source": [
    "def calculate_gini(labels):\n",
    "    unique_labels = np.unique(labels)\n",
    "    gini = 0\n",
    "    for label in unique_labels:\n",
    "        found = np.where(labels == label)\n",
    "        gini = gini + len(found)/len(labels)\n",
    "    return np.square(gini)"
   ]
  },
  {
   "cell_type": "markdown",
   "metadata": {},
   "source": [
    "In the method below we calculated all possible hyperplane by calculating the gini indices for each feature. It is kind of similar to what we have done in CART method, but it will be \"fixed\" during the perturb part of the  OC1 method."
   ]
  },
  {
   "cell_type": "code",
   "execution_count": 7,
   "metadata": {},
   "outputs": [],
   "source": [
    "def get_all_possible_splits_by_gini(leaf):\n",
    "    leaf_elements = leaf.elements\n",
    "    labels = leaf.labels\n",
    "    ginis = []\n",
    "    for i in range(len(leaf_elements[0])):\n",
    "        feature_ginis = []\n",
    "        feature_column = np.array(leaf_elements)[:, i]\n",
    "        for feature in feature_column:\n",
    "            distinguish = feature_column <= feature\n",
    "            left_labels  = np.array(labels)[distinguish]\n",
    "            right_labels = np.array(labels)[~distinguish]\n",
    "            gini = 1 - calculate_gini(left_labels) - calculate_gini(right_labels)\n",
    "            feature_ginis.append([feature,gini])\n",
    "        ginis.append(min(feature_ginis))\n",
    "    return ginis"
   ]
  },
  {
   "cell_type": "markdown",
   "metadata": {},
   "source": [
    "We have also a method to find the current leaf to be splitted. It uses the utils that have implemented above."
   ]
  },
  {
   "cell_type": "code",
   "execution_count": 8,
   "metadata": {},
   "outputs": [],
   "source": [
    "def find_current_level_data(root):\n",
    "    return is_leaf_completed(root)"
   ]
  },
  {
   "cell_type": "markdown",
   "metadata": {},
   "source": [
    "The next step is to divide objects in the leaf into two sets which are above and below the hyperplane."
   ]
  },
  {
   "cell_type": "code",
   "execution_count": 9,
   "metadata": {},
   "outputs": [],
   "source": [
    "def divide_data_hiperplane(leaf,scv):\n",
    "    below = []\n",
    "    above = []\n",
    "    below_labels = []\n",
    "    above_labels = []\n",
    "    below_ids = []\n",
    "    above_ids = []\n",
    "    for i in range(len(leaf.elements)):\n",
    "        v = compute_v(leaf.elements[i],scv) > 0\n",
    "        if v:\n",
    "            above.append(leaf.elements[i])\n",
    "            above_labels.append(leaf.labels[i])\n",
    "            above_ids.append(leaf.ids[i])\n",
    "        else:\n",
    "            below.append(leaf.elements[i])\n",
    "            below_labels.append(leaf.labels[i])\n",
    "            below_ids.append(leaf.ids[i])\n",
    "    return np.array(below), np.array(above), np.array(below_labels), np.array(above_labels), below_ids, above_ids"
   ]
  },
  {
   "cell_type": "markdown",
   "metadata": {},
   "source": [
    "The coefficients that we have used above can be calculated as following:"
   ]
  },
  {
   "cell_type": "code",
   "execution_count": 10,
   "metadata": {},
   "outputs": [],
   "source": [
    "def get_coefficiency(splits):\n",
    "    splits = np.array(splits)\n",
    "    scv = np.zeros(len(splits)+1)\n",
    "    min_split_index = np.argmin(splits[:,1])\n",
    "    scv[min_split_index] = 1\n",
    "    scv[-1] = -splits[min_split_index][1]\n",
    "    return scv"
   ]
  },
  {
   "cell_type": "markdown",
   "metadata": {},
   "source": [
    "To compute the assignment array can be calculated as: $U_{j}=\\frac{a_{m}x_{jm}-V_{j}}{x_{jm}}$."
   ]
  },
  {
   "cell_type": "code",
   "execution_count": 11,
   "metadata": {},
   "outputs": [],
   "source": [
    "def compute_u(element, scv, feature):\n",
    "    return (scv[feature] * element[feature] - compute_v(element, scv)) / element[feature]"
   ]
  },
  {
   "cell_type": "markdown",
   "metadata": {},
   "source": [
    "A short method for sorting the $U$ for the split can be implemented as below. We use it in the perturb function below."
   ]
  },
  {
   "cell_type": "code",
   "execution_count": 12,
   "metadata": {},
   "outputs": [],
   "source": [
    "def sort_u(element):\n",
    "    return np.sort(element)"
   ]
  },
  {
   "cell_type": "markdown",
   "metadata": {},
   "source": [
    "Perturb function is the core part of the OC1 method. It calculates different gini indices for different feature combinations. We get the combination with best gini index. We \"fix\" the previously calculated coefficients."
   ]
  },
  {
   "cell_type": "code",
   "execution_count": 24,
   "metadata": {},
   "outputs": [],
   "source": [
    "def perturb(leaf, scv, feature, old_gini):\n",
    "    u=[]\n",
    "    for element in leaf.elements:\n",
    "        u.append(compute_u(element, scv, feature))\n",
    "    splits = sort_u(np.array(u))\n",
    "    am = []\n",
    "    for split in splits:\n",
    "        new_scv = scv.copy()\n",
    "        new_scv[feature] = split\n",
    "        below, above, below_label, above_label, below_ids, above_ids = divide_data_hiperplane(leaf, scv)\n",
    "        gini = 1 - (calculate_gini(below_label) - calculate_gini(above_label))\n",
    "        am.append([new_scv, gini])\n",
    "    best_split_index = min(range(len(am)), key=lambda i: am[i][1])\n",
    "    if am[best_split_index][1] < old_gini:\n",
    "        return am[best_split_index][1], am[best_split_index][0]\n",
    "    elif am[best_split_index][1] == old_gini:\n",
    "        if random() < 0.3:\n",
    "            return am[best_split_index][1], am[best_split_index][0]\n",
    "    return old_gini, scv"
   ]
  },
  {
   "cell_type": "markdown",
   "metadata": {},
   "source": [
    "The build_level method combine the above functions and split the data into two leafs, assign it and/or stop building the tree if no more leafs to be divided are found."
   ]
  },
  {
   "cell_type": "code",
   "execution_count": 25,
   "metadata": {},
   "outputs": [],
   "source": [
    "def build_level(root, split_history):\n",
    "    leaf = find_current_level_data(root)\n",
    "    if leaf == None:\n",
    "        return\n",
    "    splits = get_all_possible_splits_by_gini(leaf)\n",
    "    split_coefficiency_vector = get_coefficiency(splits)\n",
    "    below,above, below_label, above_label, below_ids, above_ids = divide_data_hiperplane(leaf,split_coefficiency_vector)\n",
    "    gini = 1 - calculate_gini(below_label) - calculate_gini(above_label)\n",
    "    for c in range(R):\n",
    "        feature = randint(0,len(leaf.elements[0])-1)\n",
    "        gini, split_coefficiency_vector = perturb(leaf, split_coefficiency_vector, feature, gini)\n",
    "        below, above, below_label, above_label, below_ids, above_ids = divide_data_hiperplane(leaf,split_coefficiency_vector)\n",
    "    left_leaf = BinaryLeaf(below, below_label, below_ids)\n",
    "    right_leaf = BinaryLeaf(above, above_label, above_ids)\n",
    "    split_history.append([str(leaf.ids), str(left_leaf.ids)])\n",
    "    split_history.append([str(leaf.ids), str(right_leaf.ids)])\n",
    "    leaf.set_completed()\n",
    "    if len(np.unique(below_label)) == 1:\n",
    "        left_leaf.set_completed()\n",
    "    if len(np.unique(above_label)) == 1:\n",
    "        right_leaf.set_completed()\n",
    "    if compare_two_leafs(leaf, left_leaf) or compare_two_leafs(leaf,right_leaf):\n",
    "        leaf.set_completed()\n",
    "    else:\n",
    "        leaf.set_R(right_leaf)\n",
    "        leaf.set_L(left_leaf)\n",
    "    build_level(root, split_history)\n",
    "    return root, split_history"
   ]
  },
  {
   "cell_type": "markdown",
   "metadata": {},
   "source": [
    "Execute the level building function."
   ]
  },
  {
   "cell_type": "code",
   "execution_count": 26,
   "metadata": {},
   "outputs": [],
   "source": [
    "def build(root):\n",
    "    split_history = []\n",
    "    return build_level(root, split_history)"
   ]
  },
  {
   "cell_type": "code",
   "execution_count": 27,
   "metadata": {},
   "outputs": [],
   "source": [
    "oc1_tree, split_history_oc1 = build(root)"
   ]
  },
  {
   "cell_type": "markdown",
   "metadata": {},
   "source": [
    "Plot function is the same as in the previous methods:"
   ]
  },
  {
   "cell_type": "code",
   "execution_count": 28,
   "metadata": {},
   "outputs": [],
   "source": [
    "def plot_tree(split_history):\n",
    "    tree = pydot.Dot(graph_type='graph')\n",
    "    for split in split_history:\n",
    "        new_edge = pydot.Edge(split[0], split[1])\n",
    "        tree.add_edge(new_edge)\n",
    "    tree.write('oc1_tree.png', format='png')\n",
    "    \n",
    "plot_tree(split_history_oc1)    "
   ]
  },
  {
   "cell_type": "markdown",
   "metadata": {},
   "source": [
    "And display the tree:"
   ]
  },
  {
   "cell_type": "code",
   "execution_count": 29,
   "metadata": {},
   "outputs": [
    {
     "data": {
      "image/png": "[encoded data removed]",
      "text/plain": [
       "<IPython.core.display.Image object>"
      ]
     },
     "execution_count": 29,
     "metadata": {},
     "output_type": "execute_result"
    }
   ],
   "source": [
    "from IPython.display import Image\n",
    "Image(filename='oc1_tree.png') "
   ]
  }
 ],
 "metadata": {
  "kernelspec": {
   "display_name": "Python 3",
   "language": "python",
   "name": "python3"
  },
  "language_info": {
   "codemirror_mode": {
    "name": "ipython",
    "version": 3
   },
   "file_extension": ".py",
   "mimetype": "text/x-python",
   "name": "python",
   "nbconvert_exporter": "python",
   "pygments_lexer": "ipython3",
   "version": "3.12.0"
  }
 },
 "nbformat": 4,
 "nbformat_minor": 4
}
